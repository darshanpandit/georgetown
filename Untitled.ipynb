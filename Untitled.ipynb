{
 "cells": [
  {
   "cell_type": "markdown",
   "metadata": {
    "slideshow": {
     "slide_type": "slide"
    }
   },
   "source": [
    "# Transportation Science: Past, Present & Future"
   ]
  },
  {
   "cell_type": "markdown",
   "metadata": {
    "slideshow": {
     "slide_type": "fragment"
    }
   },
   "source": [
    "## Darshan Pandit"
   ]
  },
  {
   "cell_type": "markdown",
   "metadata": {
    "slideshow": {
     "slide_type": "slide"
    }
   },
   "source": [
    "# Introduction\n",
    "* Computer Science Graduate studying Transportation Engineering at UMD, College Park\n",
    "* Grew up suburbs of Mumbai(Bombay), India\n",
    "* Tendency to optimize over Travel time\n",
    "* Working at National Center for Smart Growth as Assistant"
   ]
  },
  {
   "cell_type": "markdown",
   "metadata": {
    "slideshow": {
     "slide_type": "slide"
    }
   },
   "source": [
    "## Blueprint for my talk:\n",
    "+ Introducion to Key elements\n",
    "    * Value of Travel Time\n",
    "    * Distribution & User Preferences\n",
    "+ Motivation for Work & Development of Transportation in United States\n",
    "+ Primer to a 4-step Transportation Model \n",
    "+ National Center for Smart Growth\n",
    "+ Brief Architecture of Modelling Suite\n",
    "+ Discuss Insights from our Modelling Suite\n",
    "+ Towards incoporating more complex Transport Demands\n",
    "+ Suggestions on techniques/knowledge you must acquire"
   ]
  },
  {
   "cell_type": "markdown",
   "metadata": {
    "slideshow": {
     "slide_type": "slide"
    }
   },
   "source": [
    "# Travel Time & derivative Metrics"
   ]
  },
  {
   "cell_type": "markdown",
   "metadata": {
    "slideshow": {
     "slide_type": "subslide"
    }
   },
   "source": [
    "### Value of Time:\n",
    "+ Opportunity cost of the time that a traveller spends on his/her journey.\n",
    "    * Opportunity cost is defined as the loss of potential gain from other alternatives when one alternative is chosen.\n",
    "+ Must be categorized by Trip Purpose\n",
    "$$ VOT(Work Trip | Person) = f(Annual Income | Person , Avg Annual Commute Time) $$\n",
    "+ Leisure & Personal Travel Trips are more difficult to compute\n",
    "\n"
   ]
  },
  {
   "cell_type": "markdown",
   "metadata": {
    "slideshow": {
     "slide_type": "subslide"
    }
   },
   "source": [
    "### Value of Travel Time Savings:\n",
    "+ Derived Metric defined as Willingness to pay for saving a unit of time by an indivudal.\n",
    "+ Willingness to Pay can vary across individuals based upon Demographics.\n",
    "+ Implicit Costs of Travel play a big role:\n",
    "    * Cost of Walking to nearby location has Health Benifits, and hence negative cost component\n",
    "    * When commuting by Train/Bus, you are free to read / listen to music or can relax. This reduces Percieved Travel Time\n",
    "    "
   ]
  },
  {
   "cell_type": "markdown",
   "metadata": {
    "slideshow": {
     "slide_type": "subslide"
    }
   },
   "source": [
    "![alt text][vttTable]\n",
    "\n",
    "[vttTable]: images/vtt.png \"Recommended Value of Travel Times\""
   ]
  },
  {
   "cell_type": "markdown",
   "metadata": {
    "slideshow": {
     "slide_type": "subslide"
    }
   },
   "source": [
    "![Recommended Value of Travel Times Savings][vttsavingsTable]\n",
    "\n",
    "\n",
    "[vttsavingsTable]: images/vvtsavings.png \"Recommended Value of Travel Times Savings\""
   ]
  },
  {
   "cell_type": "markdown",
   "metadata": {
    "slideshow": {
     "slide_type": "slide"
    }
   },
   "source": [
    "# Tranportation Systems as Networks"
   ]
  },
  {
   "cell_type": "markdown",
   "metadata": {
    "slideshow": {
     "slide_type": "subslide"
    }
   },
   "source": [
    "+ A transportation system is the combination of the basic functional elements which facilitate the movement of people and goods in both space and time.\n",
    "These functional elements include:\n",
    "    * Objects: Entities which are to be moved\n",
    "    * Path: Location in space along which the objects flow\n",
    "        + Links: Flow is constrained to follow a particular route\n",
    "        + Intersections: Links merge and flow can change direction\n",
    "    * Vehicles: Containers to provide objects mobility along a particular type of path\n",
    "    * Terminals: Places where traffic is transferred from one vehicle to another and/or traffic enters and exits\n",
    "    * Operations plans: Procedures used for coordination of activities of each of the components"
   ]
  },
  {
   "cell_type": "markdown",
   "metadata": {
    "collapsed": true,
    "slideshow": {
     "slide_type": "subslide"
    }
   },
   "source": [
    "![Road Network College Park][collegenw]\n",
    "\n",
    "\n",
    "[collegenw]: images/collegenw.png \"Link Graph for College Park Road Network\""
   ]
  },
  {
   "cell_type": "markdown",
   "metadata": {
    "slideshow": {
     "slide_type": "subslide"
    }
   },
   "source": [
    "### Brae's Paradox"
   ]
  },
  {
   "cell_type": "markdown",
   "metadata": {
    "slideshow": {
     "slide_type": "subslide"
    }
   },
   "source": [
    "![][ue1]\n",
    "\n",
    "\n",
    "[ue1]: images/ue1.png \"User Equilibrium Intorduction\"\n"
   ]
  },
  {
   "cell_type": "markdown",
   "metadata": {
    "slideshow": {
     "slide_type": "fragment"
    }
   },
   "source": [
    "![][ue2]\n",
    "[ue2]: images/ue2.png \"User Equilibrium Intorduction\""
   ]
  },
  {
   "cell_type": "markdown",
   "metadata": {
    "slideshow": {
     "slide_type": "subslide"
    }
   },
   "source": [
    "![][ue3]\n",
    "[ue3]: images/ue3.png \"User Equilibrium Intorduction\""
   ]
  },
  {
   "cell_type": "markdown",
   "metadata": {
    "slideshow": {
     "slide_type": "fragment"
    }
   },
   "source": [
    "![][ue4]\n",
    "[ue4]: images/ue4 \"User Equilibrium Intorduction\""
   ]
  },
  {
   "cell_type": "markdown",
   "metadata": {
    "slideshow": {
     "slide_type": "subslide"
    }
   },
   "source": [
    "![][ue5]\n",
    "\n",
    "\n",
    "[ue5]: images/ue5.png \"User Equilibrium Intorduction\"\n"
   ]
  },
  {
   "cell_type": "markdown",
   "metadata": {
    "slideshow": {
     "slide_type": "subslide"
    }
   },
   "source": [
    "![][ue6]\n",
    "\n",
    "\n",
    "[ue6]: images/ue6.png \"User Equilibrium Intorduction\"\n"
   ]
  },
  {
   "cell_type": "markdown",
   "metadata": {
    "slideshow": {
     "slide_type": "subslide"
    }
   },
   "source": [
    "In addition:\n",
    "+ Link Cost functions are non-linear and temporal\n",
    "+ Computation of Equilibrium on large networks is a relatively slow Computation.\n",
    "+ User Equilibrium is never actually achieved"
   ]
  },
  {
   "cell_type": "markdown",
   "metadata": {
    "slideshow": {
     "slide_type": "slide"
    }
   },
   "source": [
    "# Distribution of Demand & Choice Theory"
   ]
  },
  {
   "cell_type": "code",
   "execution_count": 11,
   "metadata": {
    "slideshow": {
     "slide_type": "subslide"
    }
   },
   "outputs": [
    {
     "data": {
      "image/jpeg": "[encoded data removed]",
      "text/html": [
       "\n",
       "        <iframe\n",
       "            width=\"400\"\n",
       "            height=\"300\"\n",
       "            src=\"https://www.youtube.com/embed/6YDHBFVIvIs\"\n",
       "            frameborder=\"0\"\n",
       "            allowfullscreen\n",
       "        ></iframe>\n",
       "        "
      ],
      "text/plain": [
       "<IPython.lib.display.YouTubeVideo at 0x7fbe12d4e320>"
      ]
     },
     "execution_count": 11,
     "metadata": {},
     "output_type": "execute_result"
    }
   ],
   "source": [
    "            from IPython.display import YouTubeVideo\n",
    "# Demo of a Galton Board\n",
    "# Video credit: Matt Parker, Numberphile.\n",
    "YouTubeVideo('6YDHBFVIvIs')"
   ]
  },
  {
   "cell_type": "markdown",
   "metadata": {
    "slideshow": {
     "slide_type": "slide"
    }
   },
   "source": [
    "![][4step]\n",
    "\n",
    "[4step]: images/4step.png \"4-Step Travel Model\"\n"
   ]
  },
  {
   "cell_type": "markdown",
   "metadata": {
    "slideshow": {
     "slide_type": "subslide"
    }
   },
   "source": [
    "* Need for Activity based models\n",
    "    + Trip & Tour Based Models\n",
    "    + Time Use Models & Travel Behaviour Surveys\n",
    "        * [American Time Use survey](https://flowingdata.com/2015/12/15/a-day-in-the-life-of-americans/)\n",
    "        * National Household Travel Survey\n",
    "* Integrated Models\n",
    "    + Integration with Land Use, Economic Activity, Emission Models."
   ]
  },
  {
   "cell_type": "markdown",
   "metadata": {
    "slideshow": {
     "slide_type": "slide"
    }
   },
   "source": [
    "# Motivation"
   ]
  },
  {
   "cell_type": "markdown",
   "metadata": {
    "slideshow": {
     "slide_type": "subslide"
    }
   },
   "source": [
    "+ Construction of Infrastructure is hitting a bootleneck in developed world\n",
    "    * Need for better adoption & integration with innovations, Need for strong Business Models\n",
    "+ The demand outpaces the supply in developing world\n",
    "    ![Beijing Macau Expressway Traffic][china-traffic]\n",
    "[china-traffic]: images/china-traffic.jpg \"Beijing Macau Expressway Traffic\"\n",
    "    \n",
    "+ As the century progresses, under-developed countries will rapidly catch-up\n"
   ]
  },
  {
   "cell_type": "markdown",
   "metadata": {
    "slideshow": {
     "slide_type": "subslide"
    }
   },
   "source": [
    "### \"But what are the sorts of things that are important to humankind, which the current model of either large companies investing in or VCs investing in, aren’t going to solve? \n",
    "#### Problem of Commons: Cleaning Plastics in Ocean\"\n",
    " ### - Rodney Brooks\n",
    " Founding director,Computer Science and Artificial Intelligence Lab, MIT\n",
    " \n",
    " Cofounder, iRobot & Rethink Robotics\n"
   ]
  },
  {
   "cell_type": "markdown",
   "metadata": {
    "collapsed": true,
    "slideshow": {
     "slide_type": "slide"
    }
   },
   "source": [
    "## National Center for Smart Growth, University of Maryland\n"
   ]
  },
  {
   "cell_type": "markdown",
   "metadata": {
    "slideshow": {
     "slide_type": "subslide"
    }
   },
   "source": [
    "![][n1]\n",
    "\n",
    "[n1]: images/n1.png \"4-Step Travel Model\"\n"
   ]
  },
  {
   "cell_type": "markdown",
   "metadata": {
    "slideshow": {
     "slide_type": "subslide"
    }
   },
   "source": [
    "![][n2]\n",
    "\n",
    "[n2]: images/n2.png \"4-Step Travel Model\"\n"
   ]
  },
  {
   "cell_type": "markdown",
   "metadata": {
    "slideshow": {
     "slide_type": "subslide"
    }
   },
   "source": [
    "![][n3]\n",
    "\n",
    "[n3]: images/n3.png \"4-Step Travel Model\"\n"
   ]
  },
  {
   "cell_type": "markdown",
   "metadata": {
    "slideshow": {
     "slide_type": "subslide"
    }
   },
   "source": [
    "![][n4]\n",
    "\n",
    "[n4]: images/n4.png \"4-Step Travel Model\"\n"
   ]
  }
 ],
 "metadata": {
  "celltoolbar": "Slideshow",
  "kernelspec": {
   "display_name": "Python [default]",
   "language": "python",
   "name": "python3"
  },
  "language_info": {
   "codemirror_mode": {
    "name": "ipython",
    "version": 3
   },
   "file_extension": ".py",
   "mimetype": "text/x-python",
   "name": "python",
   "nbconvert_exporter": "python",
   "pygments_lexer": "ipython3",
   "version": "3.6.1"
  }
 },
 "nbformat": 4,
 "nbformat_minor": 2
}
