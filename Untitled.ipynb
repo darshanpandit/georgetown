{
 "cells": [
  {
   "cell_type": "markdown",
   "metadata": {
    "slideshow": {
     "slide_type": "slide"
    }
   },
   "source": [
    "# Transportation Science: Past, Present & Future"
   ]
  },
  {
   "cell_type": "markdown",
   "metadata": {
    "slideshow": {
     "slide_type": "fragment"
    }
   },
   "source": [
    "## Darshan Pandit"
   ]
  },
  {
   "cell_type": "markdown",
   "metadata": {
    "slideshow": {
     "slide_type": "slide"
    }
   },
   "source": [
    "# Introduction\n",
    "* Computer Science Graduate studying Transportation Engineering at UMD, College Park\n",
    "* Grew up suburbs of Mumbai(Bombay), India\n",
    "* Tendency to optimize over Travel time\n",
    "* Working at National Center for Smart Growth as Assistant"
   ]
  },
  {
   "cell_type": "markdown",
   "metadata": {
    "slideshow": {
     "slide_type": "slide"
    }
   },
   "source": [
    "## Blueprint for my talk:\n",
    "+ Introducion to Key elements\n",
    "    * Value of Travel Time\n",
    "    * Distribution & User Preferences\n",
    "+ Motivation for Work & Development of Transportation in United States\n",
    "+ Primer to a 4-step Transportation Model \n",
    "+ National Center for Smart Growth\n",
    "+ Brief Architecture of Modelling Suite\n",
    "+ Disucss Insights from our Modelling Suite\n",
    "+ Towards an Agent Based Modeling\n",
    "+ Towards incoporating more complex Transport Demands\n",
    "+ Suggestions on techniques/knowledge you must acquire"
   ]
  },
  {
   "cell_type": "markdown",
   "metadata": {
    "slideshow": {
     "slide_type": "slide"
    }
   },
   "source": [
    "# Travel Time & derivative Metrics"
   ]
  },
  {
   "attachments": {},
   "cell_type": "markdown",
   "metadata": {
    "slideshow": {
     "slide_type": "subslide"
    }
   },
   "source": [
    "### Value of Time:\n",
    "+ Opportunity cost of the time that a traveller spends on his/her journey.\n",
    "    * Opportunity cost is defined as the loss of potential gain from other alternatives when one alternative is chosen.\n",
    "+ Must be categorized by Trip Purpose\n",
    "$$ VOT(Work Trip | Person) = f(Annual Income | Person , Avg Annual Commute Time) $$\n",
    "+ Leisure & Personal Travel Trips are more difficult to compute\n",
    "\n"
   ]
  },
  {
   "cell_type": "markdown",
   "metadata": {
    "slideshow": {
     "slide_type": "subslide"
    }
   },
   "source": [
    "### Value of Travel Time Savings:\n",
    "+ Derived Metric defined as Willingness to pay for saving a unit of time by an indivudal.\n",
    "+ Willingness to Pay can vary across individuals based upon Demographics.\n",
    "+ Implicit Costs of Travel play a big role:\n",
    "    * Cost of Walking to nearby location has Health Benifits, and hence negative cost component\n",
    "    * When commuting by Train\\Bus, you are free to read / listen to music or can relax. This reduces Percieved Travel Time\n",
    "    "
   ]
  },
  {
   "cell_type": "markdown",
   "metadata": {
    "slideshow": {
     "slide_type": "subslide"
    }
   },
   "source": [
    "![alt text][vttTable]\n",
    "\n",
    "[vttTable]: images/vtt.png \"Recommended Value of Travel Times\""
   ]
  },
  {
   "cell_type": "markdown",
   "metadata": {
    "slideshow": {
     "slide_type": "subslide"
    }
   },
   "source": [
    "![Recommended Value of Travel Times Savings][vttsavingsTable]\n",
    "\n",
    "\n",
    "[vttsavingsTable]: images/vvtsavings.png \"Recommended Value of Travel Times Savings\""
   ]
  },
  {
   "cell_type": "markdown",
   "metadata": {
    "slideshow": {
     "slide_type": "slide"
    }
   },
   "source": [
    "# Tranportation Systems as Networks"
   ]
  },
  {
   "cell_type": "markdown",
   "metadata": {
    "slideshow": {
     "slide_type": "subslide"
    }
   },
   "source": [
    "+ A transportation system is the combination of the basic functional elements which facilitate the movement of people and goods in both space and time.\n",
    "These functional elements include:\n",
    "    * Objects: Entities which are to be moved\n",
    "    * Path: Location in space along which the objects flow\n",
    "        + Links: Flow is constrained to follow a particular route\n",
    "        + Intersections: Links merge and flow can change direction\n",
    "    * Vehicles: Containers to provide objects mobility along a particular type of path\n",
    "    * Terminals: Places where traffic is transferred from one vehicle to another and/or traffic enters and exits\n",
    "    * Operations plans: Procedures used for coordination of activities of each of the components"
   ]
  },
  {
   "cell_type": "code",
   "execution_count": null,
   "metadata": {
    "collapsed": true
   },
   "outputs": [],
   "source": []
  }
 ],
 "metadata": {
  "celltoolbar": "Slideshow",
  "kernelspec": {
   "display_name": "Python [default]",
   "language": "python",
   "name": "python3"
  },
  "language_info": {
   "codemirror_mode": {
    "name": "ipython",
    "version": 3
   },
   "file_extension": ".py",
   "mimetype": "text/x-python",
   "name": "python",
   "nbconvert_exporter": "python",
   "pygments_lexer": "ipython3",
   "version": "3.6.1"
  }
 },
 "nbformat": 4,
 "nbformat_minor": 2
}
